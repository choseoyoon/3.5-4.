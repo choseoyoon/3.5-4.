{
 "cells": [
  {
   "cell_type": "markdown",
   "id": "f0bcae9a",
   "metadata": {},
   "source": [
    "항등 함수\n",
    ": 입력을 그대로 출력. (입력과 출력이 항상 같다)\n",
    "\n",
    "소프트맥스 함수\n",
    ": 모든 입력 신호로 부터 화살표를 받는다. (출력층의 각 뉴런이 모든 입력 신호에서 영향을 받기 때문)"
   ]
  },
  {
   "cell_type": "code",
   "execution_count": null,
   "id": "7e531035",
   "metadata": {},
   "outputs": [],
   "source": [
    "# 소프트맥스 함수 구현\n",
    "\n",
    "a = np.array([0.3, 2.9, 4.0])\n",
    "\n",
    "exp_a = np,exp(a)    # 지수 함수\n",
    "print(exp_a)\n",
    "\n",
    "sum_exp_a = np.sum(exp_a)    # 지수 함수의 합\n",
    "print(sum_exp_a)\n",
    "\n",
    "y = exp_a / sum_exp_a\n",
    "print(y)"
   ]
  },
  {
   "cell_type": "code",
   "execution_count": null,
   "id": "4b21d45b",
   "metadata": {},
   "outputs": [],
   "source": [
    "# 논리 흐름을 파이썬 함수로 정의\n",
    "\n",
    "def softmax(a):\n",
    "    exp_a = np,exp(a)\n",
    "    sum_exp_a = np.sum(exp_a)\n",
    "    y = exp_a / sum_exp_a\n",
    "    \n",
    "    return y"
   ]
  },
  {
   "cell_type": "code",
   "execution_count": null,
   "id": "598d919f",
   "metadata": {},
   "outputs": [],
   "source": [
    "a = np.array([1010, 1000, 990])\n",
    "np,exp(a) / np.sum(exp_a)    # 소프트맥스 함수의 계산 -> 제대로 계산X\n",
    "\n",
    "c = np.max(a)    # c = 1010 (최댓값)\n",
    "a - c\n",
    "\n",
    "np,exp(a - c) / np.sum(exp_a(a - c))\n",
    "\n",
    "# 아무런 조치X => nan 출력 / 입력 신호 중 최댓값을 빼주면 올바르게 계산할 수 있다"
   ]
  },
  {
   "cell_type": "code",
   "execution_count": null,
   "id": "8090cb59",
   "metadata": {},
   "outputs": [],
   "source": [
    "# 위를 바탕으로 소프트맥스 함수 재구현\n",
    "\n",
    "def softmax(a):\n",
    "    c = np.max(a)\n",
    "    exp_a = np,exp(a - c)    # 오버플로 대책\n",
    "    sum_exp_a = np.sum(exp_a)\n",
    "    y = exp_a / sum_exp_a\n",
    "    \n",
    "    return y"
   ]
  },
  {
   "cell_type": "code",
   "execution_count": null,
   "id": "74d7420f",
   "metadata": {},
   "outputs": [],
   "source": [
    "# 소프트맥수 함수 특징\n",
    "\n",
    "a = np.array([0.3, 2.9, 4.0])\n",
    "y = softmax(a)\n",
    "print(y)\n",
    "\n",
    "num.sum(y)\n",
    "\n",
    "# 소프트맥스 함수의 출력은 0에서 1.0 사이의 실수 / 출력의 총합은 1이다. (중요 성질) => 출력을 '확률'로 헤석할 수 있음."
   ]
  },
  {
   "cell_type": "code",
   "execution_count": null,
   "id": "d2f39dac",
   "metadata": {},
   "outputs": [],
   "source": [
    "# 손글씨 인식 \n",
    "import sys, os \n",
    "sys.path. append(os.pardir)    # 부모 디렉터리의 파일을 가져올 수 있도록 설정 \n",
    "from dataset.mnist import load_mnist \n",
    "\n",
    "# 처음 한 번은 몇 분 정도 걸립니다. \n",
    "\n",
    "(x_train, t_train), (x_test, t_test) = \n",
    "    load_mnist(flatten=True, normalize=False) \n",
    "# 각 데이터의 형상 출력 \n",
    "print(x. train. shape)    # (60000 , 784) \n",
    "print(t_ train.shape)    # (60000, ) \n",
    "print(x_test.shape)     # (10000, 784) \n",
    "print(t_test.shape)    # (10000, )"
   ]
  },
  {
   "cell_type": "code",
   "execution_count": null,
   "id": "db96ac60",
   "metadata": {},
   "outputs": [],
   "source": [
    "import sys, os \n",
    "sys.path append(os.pardir) \n",
    "import numpy as np \n",
    "from dataset.mnist import load_mnist \n",
    "from PIL import Image \n",
    "\n",
    "def img_show(img):\n",
    "    pil img = Image fromarray(np.uint8(img)) \n",
    "    pil_img.show() \n",
    "    \n",
    "(x_train, t_train), (x_test, t_test) = \n",
    "    load_mnist(flatten=True, normalize=False) \n",
    "    \n",
    "img = x_train[0] \n",
    "label = t_train[0] \n",
    "print(label) # 5 \n",
    "\n",
    "print(img. shape)    # (784,) \n",
    "img = img. reshape(28, 28)    # 원래 이미지의 모양으로 변형 \n",
    "print(img. shape)    # (28, 28) \n",
    "\n",
    "img_show(img)"
   ]
  },
  {
   "cell_type": "code",
   "execution_count": null,
   "id": "9e215860",
   "metadata": {},
   "outputs": [],
   "source": [
    "# 신경망의 추론 처리\n",
    "\n",
    "def get_data():\n",
    "    (x_train, t_train), (x_test, t_test) = \n",
    "        load_mnist(normalize=True, flatten=True, one_hot_label=False) \n",
    "    return x_test, t_test \n",
    "\n",
    "def init_network(): \n",
    "    with open(\"sample_weight.pkl\" , 'rb') as f:\n",
    "        network = pickle.load(f)\n",
    "        \n",
    "    return network \n",
    "\n",
    "def predict(network, x):\n",
    "    W1, W2 , W3 = network[ 'W1'], network['W2'], network['W3']\n",
    "    b1, b2, b3 = network['b1'], network['b2'], network ['b3'] \n",
    "    \n",
    "    a1 = np.dot(x, W1) + b1 \n",
    "    z1 = sigmoid(a1) \n",
    "    a2 = np.dot(z1, W2) + b2 \n",
    "    z2 = sigmoid(a2) \n",
    "    a3 = np.dot(z2, W3) + b3 \n",
    "    y = softmax(a3) \n",
    "    \n",
    "    return y"
   ]
  },
  {
   "cell_type": "code",
   "execution_count": null,
   "id": "d190be76",
   "metadata": {},
   "outputs": [],
   "source": [
    "x, t = get_data() \n",
    "network = init_network() \n",
    "\n",
    "accuracy_cnt = 0 \n",
    "for i in range(len(x)):\n",
    "    y = predict(network, x[i]) \n",
    "    p = np.argmax(y)    # 확률이 가장 높은 원소의 인덱스를 얻는다.\n",
    "    if p == t[i]:\n",
    "        accuracy_cnt += 1\n",
    "        \n",
    "print(\"Accuracy:\" + str(float(acuracy_cnt) / len(x))"
   ]
  },
  {
   "cell_type": "markdown",
   "id": "8c0b1573",
   "metadata": {},
   "source": [
    "정확도: 분류가 얼마나 올바른가\n",
    "정규화: 데이터를 특정 범위로 변환하는 처리\n",
    "전처리: 신경망의 입력 데이터에 특정 변환을 가하는 것"
   ]
  },
  {
   "cell_type": "code",
   "execution_count": null,
   "id": "2be89067",
   "metadata": {},
   "outputs": [],
   "source": [
    "# 배치 처리\n",
    "\n",
    "x, _ = get_data() \n",
    "network = init_network() \n",
    "W1, W2, W3 = network['W1'], network['W2'], network['W3']\n",
    "\n",
    "x.shape\n",
    "\n",
    "x[0].shape\n",
    "\n",
    "W1.shape\n",
    "\n",
    "W2.shape\n",
    "\n",
    "W3.shape\n",
    "\n",
    "# 다차원 배열에 대응하는 차원의 원소 수가 일치함"
   ]
  },
  {
   "cell_type": "code",
   "execution_count": null,
   "id": "28e696d8",
   "metadata": {},
   "outputs": [],
   "source": [
    "x, t = get_data()\n",
    "network = init_network() \n",
    "\n",
    "batch_size = 100    # 배치 크기 \n",
    "accuracy_cnt = 0 \n",
    "\n",
    "for i in range(0, len(x), batch_size):\n",
    "    x_batch = x[i:i+batch_size]\n",
    "    y_batch = predict(network, x_batch)\n",
    "    p = np.argmax(y_batch, axis=1) \n",
    "    accuracy_cnt += np.sum(p == t[i:i+batch_size])\n",
    "    \n",
    "print(\"Accuracy:\" + str(float (accuracy_cnt) / len(x)))"
   ]
  },
  {
   "cell_type": "code",
   "execution_count": null,
   "id": "715c16e1",
   "metadata": {},
   "outputs": [],
   "source": [
    "list(range(0, 10))\n",
    "\n",
    "list(range(0, 10, 3))"
   ]
  },
  {
   "cell_type": "code",
   "execution_count": null,
   "id": "1e171fa9",
   "metadata": {},
   "outputs": [],
   "source": [
    "x = np.array([[0.1, 0.8, 0.1], [0.3, 0.1, 0.6], [0.2, 0.5, 0.3], [0.8, 0.1, 0.1]]) \n",
    "y = np.argmax(x, axis=1) \n",
    "print(y)"
   ]
  },
  {
   "cell_type": "code",
   "execution_count": null,
   "id": "22759489",
   "metadata": {},
   "outputs": [],
   "source": [
    "y = np.array([1, 2, 1, 0]) \n",
    "t = np.array([1, 2, 0, 0]) \n",
    "print(y == t) \n",
    "\n",
    "np.sum(y == t)"
   ]
  },
  {
   "cell_type": "markdown",
   "id": "58303d91",
   "metadata": {},
   "source": [
    "신경망 데이터의 특징은 데이터를 보고 학습할 수 있다는 것이다.\n",
    "-> 매개변수를 수작업으로 정하는 것은 불가능하다. (너무 많다!)\n",
    "\n",
    "기계학습은 데이터가 핵심이다. \n",
    "문제의 패턴을 찾아낼 때 사람의 개입을 최소화하고 데이터를 통해 패턴을 찾을려고 노력한다.\n",
    "-> 이미지에서 특징을 추출하고 그 특징의 패턴을 기계학습 기술로 학습하는 방법이 있다.\n",
    "\n",
    " - 기계학습에서의 기계의 역할: 모아진 데이터로부터 규칙을 찾는다.\n",
    " - 기계학습에서의 사람의 역할: 이미지를 벡터로 변환할 때 사용하는 특징을 설계 \n",
    " \n",
    " 기계학습의 문제 (왜 나눌까? -> 범용 능력을 제대로 파악하기 위해)\n",
    "  - 훈련 데이터\n",
    "  - 시험 데이터\n",
    " \n",
    " 범용 능력: 아직 보지 못한 데이터(훈련 데이터에 포함되지 않는 데이터)로도 문제를 올바르게 풀어내는 능력.\n",
    " \n",
    " 오버피팅: 한 데이터셋에만 지나치게 최적화괸 상태 (오버피팅 피하기는 기계학습의 중요한 과제이다.)"
   ]
  },
  {
   "cell_type": "code",
   "execution_count": null,
   "id": "71b9ae7e",
   "metadata": {},
   "outputs": [],
   "source": [
    "# 오차제곱함\n",
    "\n",
    "y = [0.1, 0.05, 0.6, 0.0, 0.05, 0.1, 0.0, 0.1, 0.0, 0.0]\n",
    "t = [0, 0, 1, 0, 0, 0, 0, 0, 0, 0, 0]"
   ]
  },
  {
   "cell_type": "code",
   "execution_count": null,
   "id": "bb61f56e",
   "metadata": {},
   "outputs": [],
   "source": [
    "# 오차제곱함 구현\n",
    "\n",
    "def sum_squares_error(y, t):\n",
    "    return 0.5 * np.sum((y - t) ** 2)"
   ]
  },
  {
   "cell_type": "code",
   "execution_count": null,
   "id": "3b5a2421",
   "metadata": {},
   "outputs": [],
   "source": [
    "# 교차 엔트로피 오차\n",
    "\n",
    "def cross_entropy_error(y, t):\n",
    "    delta = 1e-7 \n",
    "    return -np.sum(t * np.log(y + delta))"
   ]
  },
  {
   "cell_type": "code",
   "execution_count": null,
   "id": "04a99c22",
   "metadata": {},
   "outputs": [],
   "source": [
    "t = [0, 0, 1, 0, 0, 0, 0, 0, 0, 0]\n",
    "y = [0.1, 0.05, 0.6, 0.0, 0.05, 0.1, 0.0, 0.1, 0.0, 0.0]\n",
    "cross_entropy_error(np.array(y), np.array(t))\n",
    "\n",
    "y = [0.1, 0.05, 0.1, 0.0, 0.05, 0.1, 0.0, 0.6, 0.0, 0.0]\n",
    "cross_entropy_error(np.array(y), np.array(t))"
   ]
  },
  {
   "cell_type": "code",
   "execution_count": null,
   "id": "91090244",
   "metadata": {},
   "outputs": [],
   "source": [
    "#미니배치 학습: 훈련 데이터로부터 일부만 골라 학습\n",
    "\n",
    "import sys, os \n",
    "sys.path. append(os.pardir) \n",
    "import numpy as np \n",
    "from dataset. mnist import load_mnist \n",
    "\n",
    "(x_train, t_train), (x_test, t_test) = \n",
    "    load_mnist(normalize=True, one_hot _label=True) \n",
    "    \n",
    "print(x_train.shape)    # (60000, 784) \n",
    "print(t_train.shape)    # (60000 , 10)"
   ]
  },
  {
   "cell_type": "code",
   "execution_count": null,
   "id": "5ef97ddf",
   "metadata": {},
   "outputs": [],
   "source": [
    "train_size = x_train. shape [0] \n",
    "batch_size = 10 \n",
    "batch_mask = np.random.choice( train_size, batch_size) \n",
    "x_batch = x_train[batch_mask] \n",
    "t_batch = t_train[batch_mask] \n",
    "\n",
    "np.random.choice(60000, 10)"
   ]
  },
  {
   "cell_type": "code",
   "execution_count": null,
   "id": "96c7e556",
   "metadata": {},
   "outputs": [],
   "source": [
    "# (배치용) 교차 엔트로피 오차 구현\n",
    "\n",
    "def cross_entropy_error(y, t):\n",
    "    if y.ndim == 1:\n",
    "        t = t.reshape(1, t.size)\n",
    "        y = y.reshape(1, y.size) \n",
    "        \n",
    "    batch_size = y.shape[0] \n",
    "    return -np.sum(t * np.log(y + 1e-7)) / batch_size"
   ]
  },
  {
   "cell_type": "code",
   "execution_count": null,
   "id": "d4c697b2",
   "metadata": {},
   "outputs": [],
   "source": [
    "def cross entropy error(y, t):\n",
    "    if y. ndim == 1:\n",
    "        t = t.reshape(1, t.size)\n",
    "        y = y.reshape(1, y.size)\n",
    "    \n",
    "    batch size = y.shape[0]\n",
    "    return -np.sum(np.log(y[np.arange(batch size), t] + 1e-7) ) / batch_size"
   ]
  },
  {
   "cell_type": "code",
   "execution_count": null,
   "id": "58c897dc",
   "metadata": {},
   "outputs": [],
   "source": []
  },
  {
   "cell_type": "code",
   "execution_count": null,
   "id": "45c0dafe",
   "metadata": {},
   "outputs": [],
   "source": []
  },
  {
   "cell_type": "code",
   "execution_count": null,
   "id": "c4c7b36b",
   "metadata": {},
   "outputs": [],
   "source": []
  }
 ],
 "metadata": {
  "kernelspec": {
   "display_name": "Python 3 (ipykernel)",
   "language": "python",
   "name": "python3"
  },
  "language_info": {
   "codemirror_mode": {
    "name": "ipython",
    "version": 3
   },
   "file_extension": ".py",
   "mimetype": "text/x-python",
   "name": "python",
   "nbconvert_exporter": "python",
   "pygments_lexer": "ipython3",
   "version": "3.10.5"
  }
 },
 "nbformat": 4,
 "nbformat_minor": 5
}
